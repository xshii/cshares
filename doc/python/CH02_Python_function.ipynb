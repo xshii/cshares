{
 "cells": [
  {
   "attachments": {},
   "cell_type": "markdown",
   "metadata": {},
   "source": [
    "# 函数\n",
    "常见的规则：如果改变了入参，则返回None，反之，返回有意义的数字，如`list.sort`和`sorted`"
   ]
  },
  {
   "cell_type": "code",
   "execution_count": 3,
   "metadata": {},
   "outputs": [
    {
     "name": "stdout",
     "output_type": "stream",
     "text": [
      "[1, 2, 3, 5, 6, 7]\n",
      "[1, 3, 2, 5, 7, 6]\n",
      "None\n",
      "[1, 2, 3, 5, 6, 7]\n"
     ]
    }
   ],
   "source": [
    "a = [1, 3, 2, 5, 7, 6]\n",
    "print(sorted(a))\n",
    "print(a)\n",
    "print(a.sort())\n",
    "print(a)"
   ]
  },
  {
   "attachments": {},
   "cell_type": "markdown",
   "metadata": {},
   "source": [
    "## 可变长参数 *args"
   ]
  },
  {
   "cell_type": "markdown",
   "metadata": {},
   "source": []
  }
 ],
 "metadata": {
  "kernelspec": {
   "display_name": "venv",
   "language": "python",
   "name": "python3"
  },
  "language_info": {
   "codemirror_mode": {
    "name": "ipython",
    "version": 3
   },
   "file_extension": ".py",
   "mimetype": "text/x-python",
   "name": "python",
   "nbconvert_exporter": "python",
   "pygments_lexer": "ipython3",
   "version": "3.11.1"
  },
  "orig_nbformat": 4,
  "vscode": {
   "interpreter": {
    "hash": "0ccd9017066a732076b846886b1affb051289a6ed0ff65a9b429140b645deef3"
   }
  }
 },
 "nbformat": 4,
 "nbformat_minor": 2
}
