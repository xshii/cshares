{
 "cells": [
  {
   "attachments": {},
   "cell_type": "markdown",
   "metadata": {},
   "source": [
    "# 函数返回值规约\n",
    "常见的规则：如果改变了入参，则返回None，反之，返回有意义的数字，如`list.sort`和`sorted`。除了`pop`函数"
   ]
  },
  {
   "cell_type": "code",
   "execution_count": 1,
   "metadata": {},
   "outputs": [
    {
     "name": "stdout",
     "output_type": "stream",
     "text": [
      "[1, 2, 3, 5, 6, 7]\n",
      "[1, 3, 2, 5, 7, 6]\n",
      "None\n",
      "[1, 2, 3, 5, 6, 7]\n",
      "None\n",
      "7\n"
     ]
    }
   ],
   "source": [
    "a = [1, 3, 2, 5, 7, 6]\n",
    "print(sorted(a))\n",
    "print(a)\n",
    "print(a.sort())\n",
    "print(a)\n",
    "print(a.__delitem__(0))\n",
    "print(a.pop())"
   ]
  },
  {
   "attachments": {},
   "cell_type": "markdown",
   "metadata": {},
   "source": [
    "# 函数可读性\n",
    "## 函数的注释及doctest及splinx（见课件）\n",
    "为`__doc__`属性，`help`方法包含了函数定义和函数的`__doc__`"
   ]
  },
  {
   "cell_type": "code",
   "execution_count": 5,
   "metadata": {},
   "outputs": [
    {
     "name": "stdout",
     "output_type": "stream",
     "text": [
      "返回n!\n",
      "{'n': 'int >= 0', 'return': <class 'int'>}\n",
      "Help on function factorial in module __main__:\n",
      "\n",
      "factorial(n: 'int >= 0') -> int\n",
      "    返回n!\n",
      "\n"
     ]
    }
   ],
   "source": [
    "def factorial(n: 'int >= 0') -> int:\n",
    "    \"\"\"返回n!\"\"\"\n",
    "    return a if n < 2 else n * factorial(n-1)\n",
    "print(factorial.__doc__)\n",
    "print(factorial.__annotations__)\n",
    "help(factorial)"
   ]
  },
  {
   "attachments": {},
   "cell_type": "markdown",
   "metadata": {},
   "source": [
    "## 函数的参数类型定义\n",
    "1. 通过注释定义\n",
    "2. 通过python3的形式定义"
   ]
  },
  {
   "cell_type": "code",
   "execution_count": 6,
   "metadata": {},
   "outputs": [],
   "source": [
    "def factorial(n: int) -> int:\n",
    "    \"\"\"返回n!\"\"\"\n",
    "    return a if n < 2 else n * factorial(n-1)"
   ]
  },
  {
   "attachments": {},
   "cell_type": "markdown",
   "metadata": {},
   "source": [
    "### 类型提示（见ppt）"
   ]
  },
  {
   "attachments": {},
   "cell_type": "markdown",
   "metadata": {},
   "source": [
    "# 高阶函数\n",
    "接受函数作为参数"
   ]
  },
  {
   "cell_type": "code",
   "execution_count": 7,
   "metadata": {},
   "outputs": [
    {
     "name": "stdout",
     "output_type": "stream",
     "text": [
      "['2', '3', '7', 'A', 'J']\n",
      "['3', '7', 'J', 'A', '2']\n"
     ]
    }
   ],
   "source": [
    "card_order = [str(x) for x in range(3, 11)] + list(\"JQKA2\")\n",
    "cards = [\"2\", \"3\", \"7\", \"J\", \"A\"]\n",
    "print(sorted(cards))\n",
    "print(sorted(cards, key=card_order.index))"
   ]
  },
  {
   "attachments": {},
   "cell_type": "markdown",
   "metadata": {},
   "source": [
    "## 高阶函数替换法\n",
    "* map filter，可以用列表推导/生成器表达式替换\n",
    "* lambda都可以用函数替换"
   ]
  },
  {
   "cell_type": "code",
   "execution_count": 8,
   "metadata": {},
   "outputs": [
    {
     "data": {
      "text/plain": [
       "['3', '7', 'J', 'A', '2']"
      ]
     },
     "execution_count": 8,
     "metadata": {},
     "output_type": "execute_result"
    }
   ],
   "source": [
    "sorted(cards, key=lambda x: card_order.index(x))"
   ]
  },
  {
   "attachments": {},
   "cell_type": "markdown",
   "metadata": {},
   "source": [
    "## 使用高阶函数实现factorial"
   ]
  },
  {
   "cell_type": "code",
   "execution_count": 10,
   "metadata": {},
   "outputs": [
    {
     "name": "stdout",
     "output_type": "stream",
     "text": [
      "120\n"
     ]
    }
   ],
   "source": [
    "from functools import reduce\n",
    "def factorial(n):\n",
    "    return reduce(lambda a, b: a * b, range(1, n+1))\n",
    "print(factorial(5))\n",
    "from operator import mul\n",
    "def factorial(n):\n",
    "    return reduce(mul, range(1, n+1))"
   ]
  },
  {
   "attachments": {},
   "cell_type": "markdown",
   "metadata": {},
   "source": [
    "## 装饰器与闭包\n",
    "* 什么是装饰器？参数是被装饰函数的函数\n",
    "* 什么功能？给被装饰提供额外的功能，或产生全新的函数\n",
    "* 什么时候起作用？在文件被import时\n",
    "* 什么时候用？\n",
    "    * 场景1：需要记录额外信息，如动态注册"
   ]
  },
  {
   "cell_type": "code",
   "execution_count": 16,
   "metadata": {},
   "outputs": [
    {
     "name": "stdout",
     "output_type": "stream",
     "text": [
      "running target\n",
      "running inner\n"
     ]
    }
   ],
   "source": [
    "def nochange_decorate(func):\n",
    "    return func\n",
    "\n",
    "@nochange_decorate\n",
    "def target():\n",
    "    print(\"running target\")\n",
    "# 等价于 target = nochange_decorate(target)\n",
    "target()\n",
    "\n",
    "def complete_change_decorate(func):\n",
    "    def inner():\n",
    "        print(\"running inner\")\n",
    "    return inner\n",
    "\n",
    "@complete_change_decorate\n",
    "def target():\n",
    "    print(\"running target\")\n",
    "target()"
   ]
  },
  {
   "attachments": {},
   "cell_type": "markdown",
   "metadata": {},
   "source": [
    "### 变量的作用域——`global` vs `nonlocal` vs 局部变量 vs 自由变量"
   ]
  },
  {
   "cell_type": "code",
   "execution_count": 29,
   "metadata": {},
   "outputs": [
    {
     "name": "stdout",
     "output_type": "stream",
     "text": [
      "<built-in function __dir__>\n",
      "3\n",
      "9\n"
     ]
    }
   ],
   "source": [
    "print(__builtins__.__dir__)\n",
    "def f1(a):\n",
    "    print(a)\n",
    "    print(b)\n",
    "f1(3)"
   ]
  },
  {
   "cell_type": "code",
   "execution_count": 20,
   "metadata": {},
   "outputs": [
    {
     "name": "stdout",
     "output_type": "stream",
     "text": [
      "3\n",
      "6\n"
     ]
    }
   ],
   "source": [
    "b = 6\n",
    "f1(3)"
   ]
  },
  {
   "cell_type": "code",
   "execution_count": 22,
   "metadata": {},
   "outputs": [
    {
     "name": "stdout",
     "output_type": "stream",
     "text": [
      "3\n"
     ]
    },
    {
     "ename": "UnboundLocalError",
     "evalue": "cannot access local variable 'b' where it is not associated with a value",
     "output_type": "error",
     "traceback": [
      "\u001b[0;31m---------------------------------------------------------------------------\u001b[0m",
      "\u001b[0;31mUnboundLocalError\u001b[0m                         Traceback (most recent call last)",
      "Cell \u001b[0;32mIn[22], line 5\u001b[0m\n\u001b[1;32m      3\u001b[0m     \u001b[39mprint\u001b[39m(b)\n\u001b[1;32m      4\u001b[0m     b \u001b[39m=\u001b[39m \u001b[39m9\u001b[39m\n\u001b[0;32m----> 5\u001b[0m f2(\u001b[39m3\u001b[39;49m)\n",
      "Cell \u001b[0;32mIn[22], line 3\u001b[0m, in \u001b[0;36mf2\u001b[0;34m(a)\u001b[0m\n\u001b[1;32m      1\u001b[0m \u001b[39mdef\u001b[39;00m \u001b[39mf2\u001b[39m(a):\n\u001b[1;32m      2\u001b[0m     \u001b[39mprint\u001b[39m(a)\n\u001b[0;32m----> 3\u001b[0m     \u001b[39mprint\u001b[39m(b)\n\u001b[1;32m      4\u001b[0m     b \u001b[39m=\u001b[39m \u001b[39m9\u001b[39m\n",
      "\u001b[0;31mUnboundLocalError\u001b[0m: cannot access local variable 'b' where it is not associated with a value"
     ]
    }
   ],
   "source": [
    "def f2(a):\n",
    "    print(a)\n",
    "    print(b)\n",
    "    b = 9\n",
    "f2(3)"
   ]
  },
  {
   "cell_type": "code",
   "execution_count": 34,
   "metadata": {},
   "outputs": [
    {
     "name": "stdout",
     "output_type": "stream",
     "text": [
      "3\n",
      "9\n"
     ]
    }
   ],
   "source": [
    "def f3(a):\n",
    "    global b\n",
    "    print(a)\n",
    "    print(b)\n",
    "    b = 9\n",
    "f3(3)"
   ]
  },
  {
   "cell_type": "code",
   "execution_count": 36,
   "metadata": {},
   "outputs": [],
   "source": [
    "# 计算平均值\n",
    "def make_average():\n",
    "    \"\"\"\n",
    "\n",
    "    >>>make_average()\n",
    "    >>>avg = make_average()\n",
    "    >>>avg(10)\n",
    "    10.0\n",
    "    >>>avg(11)\n",
    "    10.5\n",
    "    \"\"\"\n",
    "    pass\n"
   ]
  },
  {
   "cell_type": "code",
   "execution_count": 43,
   "metadata": {},
   "outputs": [
    {
     "ename": "UnboundLocalError",
     "evalue": "cannot access local variable 'count' where it is not associated with a value",
     "output_type": "error",
     "traceback": [
      "\u001b[0;31m---------------------------------------------------------------------------\u001b[0m",
      "\u001b[0;31mUnboundLocalError\u001b[0m                         Traceback (most recent call last)",
      "Cell \u001b[0;32mIn[43], line 9\u001b[0m\n\u001b[1;32m      7\u001b[0m     \u001b[39mreturn\u001b[39;00m average\n\u001b[1;32m      8\u001b[0m avg \u001b[39m=\u001b[39m make_average()\n\u001b[0;32m----> 9\u001b[0m avg(\u001b[39m10\u001b[39;49m)\n",
      "Cell \u001b[0;32mIn[43], line 4\u001b[0m, in \u001b[0;36mmake_average.<locals>.average\u001b[0;34m(val)\u001b[0m\n\u001b[1;32m      3\u001b[0m \u001b[39mdef\u001b[39;00m \u001b[39maverage\u001b[39m(val):\n\u001b[0;32m----> 4\u001b[0m     count \u001b[39m+\u001b[39m\u001b[39m=\u001b[39m \u001b[39m1\u001b[39m\n\u001b[1;32m      5\u001b[0m     total \u001b[39m+\u001b[39m\u001b[39m=\u001b[39m val\n\u001b[1;32m      6\u001b[0m     \u001b[39mreturn\u001b[39;00m total \u001b[39m/\u001b[39m count\n",
      "\u001b[0;31mUnboundLocalError\u001b[0m: cannot access local variable 'count' where it is not associated with a value"
     ]
    }
   ],
   "source": [
    "def make_average():\n",
    "    count, total = 0, 0\n",
    "    def average(val):\n",
    "        count += 1\n",
    "        total += val\n",
    "        return total / count\n",
    "    return average\n",
    "avg = make_average()\n",
    "avg(10)"
   ]
  },
  {
   "attachments": {},
   "cell_type": "markdown",
   "metadata": {},
   "source": [
    "* 函数内赋值的变量局部变量，除非：\n",
    "    * 使用`global`标记为全局变量\n",
    "    * 使用`nonolocal`标记为自由变量\n",
    "* 依赖全局变量是危险的"
   ]
  },
  {
   "cell_type": "code",
   "execution_count": 44,
   "metadata": {},
   "outputs": [
    {
     "name": "stdout",
     "output_type": "stream",
     "text": [
      "('val', 'count', 'total')\n",
      "()\n"
     ]
    }
   ],
   "source": [
    "print(avg.__code__.co_varnames)\n",
    "print(avg.__code__.co_freevars)"
   ]
  },
  {
   "cell_type": "code",
   "execution_count": 59,
   "metadata": {},
   "outputs": [
    {
     "name": "stdout",
     "output_type": "stream",
     "text": [
      "10.0\n",
      "(<cell at 0x1089d7e50: int object at 0x1063fad78>, <cell at 0x1089b96f0: int object at 0x1063fae98>)\n",
      "('val',)\n",
      "('count', 'total')\n"
     ]
    }
   ],
   "source": [
    "def make_average():\n",
    "    count, total = 0, 0\n",
    "    def average(val):\n",
    "        nonlocal count, total\n",
    "        count += 1\n",
    "        total += val\n",
    "        return total / count\n",
    "    return average\n",
    "avg = make_average()\n",
    "print(avg(10))\n",
    "print(avg.__closure__)\n",
    "print(avg.__code__.co_varnames)\n",
    "print(avg.__code__.co_freevars)"
   ]
  },
  {
   "attachments": {},
   "cell_type": "markdown",
   "metadata": {},
   "source": [
    "#### functools.wraps(func)保留函数的__name__和__doc__"
   ]
  },
  {
   "cell_type": "code",
   "execution_count": 60,
   "metadata": {},
   "outputs": [
    {
     "name": "stdout",
     "output_type": "stream",
     "text": [
      "factorial cost 0.00042700767517089844\n",
      "402387260077093773543702433923003985719374864210714632543799910429938512398629020592044208486969404800479988610197196058631666872994808558901323829669944590997424504087073759918823627727188732519779505950995276120874975462497043601418278094646496291056393887437886487337119181045825783647849977012476632889835955735432513185323958463075557409114262417474349347553428646576611667797396668820291207379143853719588249808126867838374559731746136085379534524221586593201928090878297308431392844403281231558611036976801357304216168747609675871348312025478589320767169132448426236131412508780208000261683151027341827977704784635868170164365024153691398281264810213092761244896359928705114964975419909342221566832572080821333186116811553615836546984046708975602900950537616475847728421889679646244945160765353408198901385442487984959953319101723355556602139450399736280750137837615307127761926849034352625200015888535147331611702103968175921510907788019393178114194545257223865541461062892187960223838971476088506276862967146674697562911234082439208160153780889893964518263243671616762179168909779911903754031274622289988005195444414282012187361745992642956581746628302955570299024324153181617210465832036786906117260158783520751516284225540265170483304226143974286933061690897968482590125458327168226458066526769958652682272807075781391858178889652208164348344825993266043367660176999612831860788386150279465955131156552036093988180612138558600301435694527224206344631797460594682573103790084024432438465657245014402821885252470935190620929023136493273497565513958720559654228749774011413346962715422845862377387538230483865688976461927383814900140767310446640259899490222221765904339901886018566526485061799702356193897017860040811889729918311021171229845901641921068884387121855646124960798722908519296819372388642614839657382291123125024186649353143970137428531926649875337218940694281434118520158014123344828015051399694290153483077644569099073152433278288269864602789864321139083506217095002597389863554277196742822248757586765752344220207573630569498825087968928162753848863396909959826280956121450994871701244516461260379029309120889086942028510640182154399457156805941872748998094254742173582401063677404595741785160829230135358081840096996372524230560855903700624271243416909004153690105933983835777939410970027753472000000000000000000000000000000000000000000000000000000000000000000000000000000000000000000000000000000000000000000000000000000000000000000000000000000000000000000000000000000000000000000000000000000000000000000000000000000000000000000000000000000000\n",
      "Help on function factorial in module __main__:\n",
      "\n",
      "factorial(n)\n",
      "\n"
     ]
    }
   ],
   "source": [
    "import time\n",
    "import functools\n",
    "def clock(func):\n",
    "    @functools.wraps(func)\n",
    "    def clocked(*arg, **kwargs):\n",
    "        t0 = time.time()\n",
    "        result = func(*arg, **kwargs)\n",
    "        print(f'{func.__name__} cost {time.time() - t0}')\n",
    "        return result\n",
    "    return clocked\n",
    "\n",
    "@clock\n",
    "def factorial(n):\n",
    "    return reduce(lambda a, b: a * b, range(1, n+1))\n",
    "\n",
    "\n",
    "print(factorial(1000))\n",
    "help(factorial)"
   ]
  },
  {
   "attachments": {},
   "cell_type": "markdown",
   "metadata": {},
   "source": [
    "### classmethod, staticmethod, property\n",
    "* `classmethod`，提供类的其他初始化方法\n",
    "* `staticmethod`，静态方法，与类状态无关\n",
    "* `property`，惰性属性"
   ]
  },
  {
   "cell_type": "code",
   "execution_count": 67,
   "metadata": {},
   "outputs": [
    {
     "name": "stdout",
     "output_type": "stream",
     "text": [
      "1\n"
     ]
    }
   ],
   "source": [
    "import dataclasses\n",
    "\n",
    "@dataclasses.dataclass\n",
    "class Cards:\n",
    "    suits: str\n",
    "    rank: str\n",
    "    @property\n",
    "    def score(self):\n",
    "        return 1\n",
    "    def __setattr__(self, __name: str, __value) -> None:\n",
    "        pass\n",
    "card = Cards(\"♣️\", \"A\")\n",
    "\n",
    "card.score\n",
    "card.score = 3\n",
    "print(card.score)"
   ]
  },
  {
   "cell_type": "code",
   "execution_count": null,
   "metadata": {},
   "outputs": [],
   "source": []
  }
 ],
 "metadata": {
  "kernelspec": {
   "display_name": "venv",
   "language": "python",
   "name": "python3"
  },
  "language_info": {
   "codemirror_mode": {
    "name": "ipython",
    "version": 3
   },
   "file_extension": ".py",
   "mimetype": "text/x-python",
   "name": "python",
   "nbconvert_exporter": "python",
   "pygments_lexer": "ipython3",
   "version": "3.11.1"
  },
  "orig_nbformat": 4,
  "vscode": {
   "interpreter": {
    "hash": "0ccd9017066a732076b846886b1affb051289a6ed0ff65a9b429140b645deef3"
   }
  }
 },
 "nbformat": 4,
 "nbformat_minor": 2
}
