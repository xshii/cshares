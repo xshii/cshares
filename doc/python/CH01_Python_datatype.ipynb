{
 "cells": [
  {
   "attachments": {},
   "cell_type": "markdown",
   "metadata": {},
   "source": [
    "# 本章节均为Fluent Python中的重点内容"
   ]
  },
  {
   "attachments": {},
   "cell_type": "markdown",
   "metadata": {},
   "source": [
    "# 类型\n",
    "## 内置类型\n",
    "* 按照存储的数据类型：\n",
    "    * 容器序列（存放不同类型的数据）：list、tuple、collections.deque\n",
    "    * 扁平序列（只能存放一种类型的数据）：str、bytes、bytearray、memoryview和array.array。\n",
    "* 按照能否被修改\n",
    "    * 可变序列：list、bytearray、array.array、collections.deque和memoryview\n",
    "    * 不可变序列：tuple、str、bytes"
   ]
  },
  {
   "attachments": {},
   "cell_type": "markdown",
   "metadata": {},
   "source": [
    "### 列表list"
   ]
  },
  {
   "attachments": {},
   "cell_type": "markdown",
   "metadata": {},
   "source": [
    "**列表推导**"
   ]
  },
  {
   "cell_type": "code",
   "execution_count": 3,
   "metadata": {},
   "outputs": [
    {
     "data": {
      "text/plain": [
       "[33, 64, 35, 36, 37, 94, 38, 42, 40, 41]"
      ]
     },
     "execution_count": 3,
     "metadata": {},
     "output_type": "execute_result"
    }
   ],
   "source": [
    "symbols = \"!@#$%^&*()\"\n",
    "code = []\n",
    "for i in symbols:\n",
    "    code.append(ord(i))\n",
    "code"
   ]
  },
  {
   "cell_type": "code",
   "execution_count": 7,
   "metadata": {},
   "outputs": [
    {
     "data": {
      "text/plain": [
       "[33, 64, 35, 36, 37, 94, 38, 42, 40, 41]"
      ]
     },
     "execution_count": 7,
     "metadata": {},
     "output_type": "execute_result"
    }
   ],
   "source": [
    "codes = [ord(x) for x in symbols]\n",
    "codes"
   ]
  },
  {
   "attachments": {},
   "cell_type": "markdown",
   "metadata": {},
   "source": [
    "1. 简洁易读\n",
    "2. for循环存在变量泄露的问题，如"
   ]
  },
  {
   "cell_type": "code",
   "execution_count": 14,
   "metadata": {},
   "outputs": [
    {
     "data": {
      "text/plain": [
       "')'"
      ]
     },
     "execution_count": 14,
     "metadata": {},
     "output_type": "execute_result"
    }
   ],
   "source": [
    "i"
   ]
  },
  {
   "cell_type": "code",
   "execution_count": 15,
   "metadata": {},
   "outputs": [
    {
     "ename": "NameError",
     "evalue": "name 'x' is not defined",
     "output_type": "error",
     "traceback": [
      "\u001b[0;31m---------------------------------------------------------------------------\u001b[0m",
      "\u001b[0;31mNameError\u001b[0m                                 Traceback (most recent call last)",
      "Cell \u001b[0;32mIn[15], line 1\u001b[0m\n\u001b[0;32m----> 1\u001b[0m x\n",
      "\u001b[0;31mNameError\u001b[0m: name 'x' is not defined"
     ]
    }
   ],
   "source": [
    "x"
   ]
  },
  {
   "attachments": {},
   "cell_type": "markdown",
   "metadata": {},
   "source": [
    "更多形式："
   ]
  },
  {
   "attachments": {},
   "cell_type": "markdown",
   "metadata": {},
   "source": [
    "\n",
    "1. 支持多维和判断\n"
   ]
  },
  {
   "cell_type": "code",
   "execution_count": 46,
   "metadata": {},
   "outputs": [
    {
     "name": "stdout",
     "output_type": "stream",
     "text": [
      "52\n",
      "26\n"
     ]
    }
   ],
   "source": [
    "x = ['♥️', '♠️', '♦️', '♣️']\n",
    "y = [str(x) for x in range(2, 11)] + list(\"JQKA\")\n",
    "cards = [i+j for i in x for j in y]\n",
    "black_cards = [i + j for i in x if i != \"♠️\" and i != \"♣️\" for j in y]\n",
    "print(len(cards))\n",
    "print(len(black_cards))"
   ]
  },
  {
   "attachments": {},
   "cell_type": "markdown",
   "metadata": {},
   "source": [
    "2. 生成器版：节省内存和性能，不利于重复使用"
   ]
  },
  {
   "cell_type": "code",
   "execution_count": 48,
   "metadata": {},
   "outputs": [
    {
     "data": {
      "text/plain": [
       "<generator object <genexpr> at 0x10c7597e0>"
      ]
     },
     "execution_count": 48,
     "metadata": {},
     "output_type": "execute_result"
    }
   ],
   "source": [
    "cards_generator = (i+j for i in x for j in y)\n",
    "cards_generator"
   ]
  },
  {
   "attachments": {},
   "cell_type": "markdown",
   "metadata": {},
   "source": [
    "### 元组"
   ]
  },
  {
   "attachments": {},
   "cell_type": "markdown",
   "metadata": {},
   "source": [
    "元组拆包"
   ]
  },
  {
   "cell_type": "code",
   "execution_count": 63,
   "metadata": {},
   "outputs": [
    {
     "name": "stdout",
     "output_type": "stream",
     "text": [
      "4T4R\n",
      "4T4R\n"
     ]
    }
   ],
   "source": [
    "# cell info\n",
    "cellinfo = (\"TDD\", \"30kHz\", \"100M\", \"4T4R\")\n",
    "rat, scs, bw, trx = cellinfo\n",
    "print(trx)\n",
    "*_, trx = cellinfo \n",
    "print(trx)"
   ]
  },
  {
   "attachments": {},
   "cell_type": "markdown",
   "metadata": {},
   "source": [
    "具名元组namedtuple"
   ]
  },
  {
   "cell_type": "code",
   "execution_count": 1,
   "metadata": {},
   "outputs": [
    {
     "name": "stdout",
     "output_type": "stream",
     "text": [
      "4T4R\n",
      "4T4R\n"
     ]
    }
   ],
   "source": [
    "from collections import namedtuple\n",
    "# 类名, 参数名列表\n",
    "Cell = namedtuple('CellInfo', ['rat','scs', 'bw', 'trx'])\n",
    "cellinfo = Cell(\"TDD\", \"30kHz\", \"100M\", \"4T4R\")\n",
    "print(cellinfo.trx)\n",
    "print(cellinfo[3])"
   ]
  },
  {
   "attachments": {},
   "cell_type": "markdown",
   "metadata": {},
   "source": [
    "# dict & set"
   ]
  },
  {
   "attachments": {},
   "cell_type": "markdown",
   "metadata": {},
   "source": [
    "## 可散列的(hashable)\n",
    "1. 实现`__hash__()`，要求同一个实例结果不变，`hash(a)==hash(a)`\n",
    "2. 实现`__eq__()`，能够检验相等\n",
    "3. 若`a==b`，则`hash(a)==hash(b)`\n",
    "\n",
    "不可变的实例是可散列的，自定义对象默认可散列，由`id(instance)`获取。不建议自定义，特别是`__eq__`依赖可变的状态。"
   ]
  },
  {
   "attachments": {},
   "cell_type": "markdown",
   "metadata": {},
   "source": [
    "## dict"
   ]
  },
  {
   "cell_type": "code",
   "execution_count": 104,
   "metadata": {},
   "outputs": [],
   "source": [
    "# 创建方式\n",
    "suits = [\"♠️\", \"♥️\", \"♣️\", \"♦️\"]\n",
    "shape_name = dict(spade=\"♠️\", heart=\"♥️\", club=\"♣️\", diamond=\"♦️\")\n",
    "shape_name = dict(zip([\"spade\", \"heart\", \"diamond\", \"club\"], suits))\n",
    "\n",
    "value_map = {\"A\":1, \"2\": 2, \"3\": 3, \"4\": 4, \"5\": 5,\"6\": 6,\"7\": 7,\"8\": 8,\"9\": 9,\"10\": 10, \"J\": 0.5, \"Q\": 0.5, \"K\":0.5}\n",
    "value_map = {str(x): x for x in range(2, 11)}\n",
    "value_map.update({\"A\": 1})\n",
    "value_map.update(dict(zip(list(\"JQK\"), [0.5] * 3)))\n",
    "value_map = dict({str(x): x for x in range(2, 11)}, A=1, J=0.5, Q=0.5, K=0.5)\n",
    "value_map = dict({str(x): x for x in range(2, 11)}, **{\"A\":1, \"J\":0.5, \"Q\":0.5, \"K\":0.5})\n",
    "# dict(name=name, description=desc % count, points=points, parent_award=parent, **award_dict)"
   ]
  },
  {
   "attachments": {},
   "cell_type": "markdown",
   "metadata": {},
   "source": [
    "### 默认值&类型的dict.get(key, defaultvalue)\n",
    "除了\"JQK\"还有王\"joker\"还有空白牌、商标牌、广告牌、规则牌，想要全都定义是很困难的，但规则是简单的：\n",
    "凡是不在已有规则里的都是0.5点"
   ]
  },
  {
   "cell_type": "code",
   "execution_count": 107,
   "metadata": {},
   "outputs": [
    {
     "name": "stdout",
     "output_type": "stream",
     "text": [
      "1\n",
      "0.5\n"
     ]
    }
   ],
   "source": [
    "comm_value_map = dict({str(x): x for x in range(2, 11)}, A=1)\n",
    "print(comm_value_map.get(\"A\", 0.5))\n",
    "blank_card = \"\"\n",
    "print(comm_value_map.get(blank_card, 0.5))"
   ]
  },
  {
   "attachments": {},
   "cell_type": "markdown",
   "metadata": {},
   "source": [
    "#### collections.defaultdict(default_factory)"
   ]
  },
  {
   "cell_type": "code",
   "execution_count": 113,
   "metadata": {},
   "outputs": [
    {
     "name": "stdout",
     "output_type": "stream",
     "text": [
      "0.5\n"
     ]
    }
   ],
   "source": [
    "from collections import defaultdict\n",
    "comm_value_map = defaultdict(lambda: 0.5)\n",
    "from functools import partial\n",
    "comm_value_map = defaultdict(partial(float, 0.5))\n",
    "# 伪代码，定义__missing__或default_factory对contain没有影响\n",
    "\"\"\"\n",
    "def __getitem__(self, item):\n",
    "    if self.__contain__(item):\n",
    "        return self[item]\n",
    "    return self.__missing__(item)\n",
    "\n",
    "def __missing__(self, item):\n",
    "    if self.default_factory:\n",
    "        return self.default_factory()\n",
    "    raise KeyError(item)\n",
    "\n",
    "def __contain__(self, item):\n",
    "    return item in self.keys()\n",
    "\"\"\"\n",
    "comm_value_map[blank_card]\n",
    "# 会使getdefault失效\n",
    "print(comm_value_map.get(blank_card, 2))"
   ]
  },
  {
   "attachments": {},
   "cell_type": "markdown",
   "metadata": {},
   "source": [
    "### 只读dict: MappingProxyType"
   ]
  },
  {
   "cell_type": "code",
   "execution_count": 114,
   "metadata": {},
   "outputs": [
    {
     "name": "stdout",
     "output_type": "stream",
     "text": [
      "defaultdict(..., {'': 0.5})\n"
     ]
    },
    {
     "ename": "TypeError",
     "evalue": "'mappingproxy' object does not support item assignment",
     "output_type": "error",
     "traceback": [
      "\u001b[0;31m---------------------------------------------------------------------------\u001b[0m",
      "\u001b[0;31mTypeError\u001b[0m                                 Traceback (most recent call last)",
      "Cell \u001b[0;32mIn[114], line 4\u001b[0m\n\u001b[1;32m      2\u001b[0m value_map_readonly \u001b[39m=\u001b[39m MappingProxyType(comm_value_map)\n\u001b[1;32m      3\u001b[0m \u001b[39mprint\u001b[39m(value_map_readonly)\n\u001b[0;32m----> 4\u001b[0m value_map_readonly[\u001b[39m\"\u001b[39;49m\u001b[39mA\u001b[39;49m\u001b[39m\"\u001b[39;49m] \u001b[39m=\u001b[39m \u001b[39m0.5\u001b[39m\n",
      "\u001b[0;31mTypeError\u001b[0m: 'mappingproxy' object does not support item assignment"
     ]
    }
   ],
   "source": [
    "from types import MappingProxyType\n",
    "value_map_readonly = MappingProxyType(comm_value_map)\n",
    "print(value_map_readonly)\n",
    "value_map_readonly[\"A\"] = 0.5"
   ]
  },
  {
   "cell_type": "code",
   "execution_count": 115,
   "metadata": {},
   "outputs": [
    {
     "name": "stdout",
     "output_type": "stream",
     "text": [
      "0.5\n"
     ]
    }
   ],
   "source": [
    "# 改变原始值\n",
    "comm_value_map[\"A\"] = 0.5\n",
    "print(value_map_readonly[\"A\"])\n",
    "comm_value_map[\"A\"] = 1"
   ]
  },
  {
   "attachments": {},
   "cell_type": "markdown",
   "metadata": {},
   "source": [
    "### 其他变种\n",
    "* OrderedDict: 按照添加顺序排序，但只用于遍历处理，key是以链的形式存储的，获取key位置的时间O(n)\n",
    "* UserDict：python版的dict"
   ]
  },
  {
   "cell_type": "code",
   "execution_count": 121,
   "metadata": {},
   "outputs": [
    {
     "name": "stdout",
     "output_type": "stream",
     "text": [
      "odict_keys(['spade', 'heart', 'diamond', 'club'])\n",
      "OrderedDict([('spade', '♠️'), ('heart', '♠️'), ('diamond', '♦️'), ('club', '♣️')])\n"
     ]
    }
   ],
   "source": [
    "from collections import OrderedDict\n",
    "# 黑桃、红桃、梅花、方片\n",
    "shape_name = OrderedDict(zip([\"spade\", \"heart\", \"diamond\", \"club\"], suits))\n",
    "print(shape_name.keys())\n",
    "print(shape_name)"
   ]
  },
  {
   "attachments": {},
   "cell_type": "markdown",
   "metadata": {},
   "source": [
    "### 散列表的内存占用巨大\n",
    "* dict vs tuple vs namedtuple vs dataclass"
   ]
  },
  {
   "cell_type": "code",
   "execution_count": 168,
   "metadata": {},
   "outputs": [
    {
     "name": "stdout",
     "output_type": "stream",
     "text": [
      "3 2\n",
      "dict size 184, hashable True, instance eq True\n",
      "tuple size 56, hashable True, instance eq True\n",
      "namedtuple size 56, hashable True, instance eq True\n",
      "dataclass size 56, hashable True, instance eq True\n",
      "class size 56, hashable True, instance eq False\n"
     ]
    }
   ],
   "source": [
    "from sys import getsizeof\n",
    "# dict\n",
    "spade_a_dict = {\"suit\": \"♠️\", \"number\": \"A\"}\n",
    "spade_a_dict2 = {\"suit\": \"♠️\", \"number\": \"A\"}\n",
    "\n",
    "# plain tuple\n",
    "spade_a_tuple = (\"♠️\", \"A\")\n",
    "spade_a_tuple2 = (\"♠️\", \"A\")\n",
    "\n",
    "# namedtuple\n",
    "from collections import namedtuple\n",
    "CardNt = namedtuple(\"Card\", [\"suit\", \"number\"])\n",
    "spade_a_nt = CardNt(\"♠️\", \"A\")\n",
    "spade_a_nt2 = CardNt(\"♠️\", \"A\")\n",
    "# dataclass !不要新定义函数\n",
    "from dataclasses import dataclass\n",
    "@dataclass\n",
    "class CardDc:\n",
    "    suit: str\n",
    "    number: str\n",
    "    def __init__(self, suit, number, add=\"2\") -> None:\n",
    "        self.suit = suit\n",
    "        self.number = number\n",
    "        self.add = add\n",
    "    def rankscore(self):\n",
    "        return self.number\n",
    "spade_a_dc = CardDc(\"♠️\", \"A\", 3)\n",
    "spade_a_dc2 = CardDc(\"♠️\", \"A\")\n",
    "\n",
    "print(spade_a_dc.add, spade_a_dc2.add)\n",
    "# class\n",
    "class CardPc:\n",
    "    def __init__(self, suit, number) -> None:\n",
    "        self.suit = suit\n",
    "        self.number = number\n",
    "    def rankscore(self):\n",
    "        return self.number\n",
    "spade_a_pc = CardPc(\"♠️\", \"A\")\n",
    "spade_a_pc2 = CardPc(\"♠️\", \"A\")\n",
    "print(f\"dict size {getsizeof(spade_a_dict)}, hashable {hasattr(spade_a_dict, '__hash__')}, instance eq {spade_a_dict == spade_a_dict2}\")\n",
    "print(f\"tuple size {getsizeof(spade_a_tuple)}, hashable {hasattr(spade_a_tuple, '__hash__')}, instance eq {spade_a_tuple == spade_a_tuple2}\")\n",
    "print(f\"namedtuple size {getsizeof(spade_a_nt)}, hashable {hasattr(spade_a_nt, '__hash__')}, instance eq {spade_a_nt == spade_a_nt2}\")\n",
    "print(f\"dataclass size {getsizeof(spade_a_dc)}, hashable {hasattr(spade_a_dc, '__hash__')}, instance eq {spade_a_dc == spade_a_dc2}\")\n",
    "print(f\"class size {getsizeof(spade_a_pc)}, hashable {hasattr(spade_a_pc, '__hash__')}, instance eq {spade_a_pc == spade_a_pc2}\")\n"
   ]
  },
  {
   "attachments": {},
   "cell_type": "markdown",
   "metadata": {},
   "source": [
    "## set"
   ]
  },
  {
   "attachments": {},
   "cell_type": "markdown",
   "metadata": {},
   "source": [
    "存储可散列的对象，最重要的特点是唯一性"
   ]
  },
  {
   "cell_type": "code",
   "execution_count": null,
   "metadata": {},
   "outputs": [],
   "source": []
  },
  {
   "cell_type": "code",
   "execution_count": 169,
   "metadata": {},
   "outputs": [
    {
     "name": "stdout",
     "output_type": "stream",
     "text": [
      "{'♣️', '♠️', '♥️', '♦️'}\n",
      "{'♣️', '♠️', '♥️', '♦️'}\n"
     ]
    }
   ],
   "source": [
    "suits_set = {\"♠️\", \"♥️\", \"♣️\", \"♦️\"}\n",
    "suits_set = set([\"♠️\", \"♥️\", \"♣️\", \"♦️\", \"♦️\"])\n",
    "print(suits_set)\n",
    "suits_set.add(\"♦️\")\n",
    "print(suits_set)"
   ]
  },
  {
   "cell_type": "code",
   "execution_count": null,
   "metadata": {},
   "outputs": [],
   "source": [
    "class A:\n",
    "    def __init__(self) -> None:\n",
    "        pass\n",
    "cls_set = {A(), A()}\n",
    "print(len(cls_set))"
   ]
  },
  {
   "attachments": {},
   "cell_type": "markdown",
   "metadata": {},
   "source": [
    "### 从列表里去重，并保持原有顺序？"
   ]
  },
  {
   "attachments": {},
   "cell_type": "markdown",
   "metadata": {},
   "source": [
    "### `in`对应的是存在`hash`值，而`==`对应的是`__eq__`"
   ]
  },
  {
   "cell_type": "code",
   "execution_count": 189,
   "metadata": {},
   "outputs": [
    {
     "name": "stdout",
     "output_type": "stream",
     "text": [
      "False\n",
      "True\n",
      "False\n",
      "{3, 2}\n"
     ]
    }
   ],
   "source": [
    "class A:\n",
    "    def __init__(self, value=1) -> None:\n",
    "        self.value = value\n",
    "    def __eq__(self, __o: object) -> bool:\n",
    "        if type(self) == type(__o):\n",
    "            return self.value == __o.value\n",
    "        return False\n",
    "    def __hash__(self) -> int:\n",
    "        return id(self)\n",
    "    def __repr__(self) -> str:\n",
    "        return str(self.value)\n",
    "a, b = A(2), A(3)\n",
    "print(a == b)\n",
    "cls_set = {b, a}\n",
    "c = A(2)\n",
    "print(a in cls_set)\n",
    "print(c in cls_set)\n",
    "print(cls_set)"
   ]
  },
  {
   "attachments": {},
   "cell_type": "markdown",
   "metadata": {},
   "source": [
    "# bytes\n",
    "以一个字节（uint8）的标准形式，依赖编解码器（通过什么表格映射解释字节，本文略）。在SSDV中，常见的场景是向服务器发送消息，需要以固定接口格式组装消息。假设一个简单的场景，服务器维护了玩家的最高分，当玩家运行出结果后，会向服务器发送：\n",
    "```[C]\n",
    "typedef struct {\n",
    "    UINT32 tag;     # 消息的类型\n",
    "    UINT32 len;     # 消息的长度\n",
    "    UINT8 value[];  # 消息的内容\n",
    "} MsgHeaderStru;\n",
    "\n",
    "typedef enum {\n",
    "    SERVER_RECV_USER_SCORE = 0x0001,\n",
    "} MsgTagEnum;\n",
    "\n",
    "#define MAX_USER_ID_LEN 10\n",
    "typedef struct {\n",
    "    UINT64 usrId; # 用户id，如s00123456，则为123456，如果为500123456，也足够\n",
    "    INT8 score;    # 如果sum < 21，则为sum，反之为21 - sum，该值的精度为0.5，即1对应0.5\n",
    "    UINT8 cardNumber; # score一致时，通过cardNumber比较\n",
    "    UINT8 rsv[6];\n",
    "} MsgUserScoreStru;\n",
    "```\n",
    "如何组装该消息？"
   ]
  },
  {
   "attachments": {},
   "cell_type": "markdown",
   "metadata": {},
   "source": [
    "## `struct`消息组装\n",
    "* 类型\n",
    "\n",
    "|格式码|\tC 类型|\tpython 类型|\n",
    "| --- | --- | --- |\n",
    "|c | char |\tbytes of length 1 |\n",
    "|b | int8|\tint|\n",
    "|B | uint8| int|\n",
    "|?|_Bool|bool|\n",
    "|h | int16|int|\n",
    "|i|int32|int|\n",
    "|q|int64|int|\n",
    "|d|double|double|\n",
    "* 字节序\n",
    "\n",
    "|字节序|顺序|\n",
    "| --- | --- |\n",
    "|<|小端|\n",
    "|>|大端|\n",
    "|!|网络序(大端)|\n",
    "无符号是有符号的大写\n",
    "* 组包：`struct.pack(formats, value1, value2, ...)`\n",
    "* 大小：`struct.calcsize(formats)`\n",
    "* 解包：`struct.unpack(formats, value1, value2, ...)`"
   ]
  },
  {
   "cell_type": "code",
   "execution_count": 206,
   "metadata": {},
   "outputs": [
    {
     "name": "stdout",
     "output_type": "stream",
     "text": [
      "16\n",
      "b'\\x00\\x00\\x00\\x01\\x00\\x00\\x00\\x10'\n"
     ]
    }
   ],
   "source": [
    "import struct\n",
    "\"\"\"\n",
    "#define MAX_USER_ID_LEN 10\n",
    "typedef struct {\n",
    "    UINT64 usrId; \n",
    "    INT8 score;\n",
    "    UINT8 cardNumber; \n",
    "    UINT8 rsv[6];\n",
    "} MsgUserScoreStru;\n",
    "\"\"\"\n",
    "msg_user_score = \">QbBBBBBBB\"\n",
    "print(struct.calcsize(msg_user_score))\n",
    "head = struct.pack(\">II\", 0x0001, struct.calcsize(msg_user_score))\n",
    "print(head)\n",
    "msg_body = struct.pack(msg_user_score, 123456, 40, 5, 0, 0, 0, 0, 0, 0)\n",
    "msg = head + msg_body"
   ]
  },
  {
   "cell_type": "code",
   "execution_count": 211,
   "metadata": {},
   "outputs": [
    {
     "name": "stdout",
     "output_type": "stream",
     "text": [
      "1 16 123456 40 5\n"
     ]
    }
   ],
   "source": [
    "tag, len, usrid, score, card_num, *_ = struct.unpack(\">II\"+msg_user_score.replace(\">\", \"\"), msg)\n",
    "print(tag, len, usrid, score, card_num)"
   ]
  },
  {
   "attachments": {},
   "cell_type": "markdown",
   "metadata": {},
   "source": [
    "## ctypes中的Structure"
   ]
  },
  {
   "cell_type": "code",
   "execution_count": 250,
   "metadata": {},
   "outputs": [
    {
     "data": {
      "text/plain": [
       "b'\\x01\\x00\\x00\\x00\\x10\\x00\\x00\\x00'"
      ]
     },
     "execution_count": 250,
     "metadata": {},
     "output_type": "execute_result"
    }
   ],
   "source": [
    "from ctypes import Structure, BigEndianStructure, c_uint64, c_uint32, c_uint8, c_int8, sizeof\n",
    "class MsgHeaderStru(BigEndianStructure):\n",
    "    _fields_ = [\n",
    "        (\"tag\", c_uint32),\n",
    "        (\"len\", c_uint32),\n",
    "    ]\n",
    "\n",
    "class MsgUserScoreStru(BigEndianStructure):\n",
    "    _fields_ = [\n",
    "        (\"usrId\", c_uint64),\n",
    "        (\"score\", c_int8),\n",
    "        (\"cardNumber\", c_uint8),\n",
    "        (\"rsv\", c_uint8 * 6),\n",
    "    ]\n",
    "\n",
    "msg_header = MsgHeaderStru(tag = 1, len = sizeof(MsgUserScoreStru))\n",
    "rsv_tmp = [0] * 6\n",
    "# 默认使用0初始化，仅做list初始化说明\n",
    "msg_user_score = MsgUserScoreStru(usrId=123456, score=40, cardNumber=5, rsv=(c_uint8 * 6)(*rsv_tmp))\n",
    "bytes(msg_header)"
   ]
  },
  {
   "cell_type": "code",
   "execution_count": null,
   "metadata": {},
   "outputs": [],
   "source": []
  }
 ],
 "metadata": {
  "kernelspec": {
   "display_name": "venv",
   "language": "python",
   "name": "python3"
  },
  "language_info": {
   "codemirror_mode": {
    "name": "ipython",
    "version": 3
   },
   "file_extension": ".py",
   "mimetype": "text/x-python",
   "name": "python",
   "nbconvert_exporter": "python",
   "pygments_lexer": "ipython3",
   "version": "3.11.1"
  },
  "orig_nbformat": 4,
  "vscode": {
   "interpreter": {
    "hash": "0ccd9017066a732076b846886b1affb051289a6ed0ff65a9b429140b645deef3"
   }
  }
 },
 "nbformat": 4,
 "nbformat_minor": 2
}
